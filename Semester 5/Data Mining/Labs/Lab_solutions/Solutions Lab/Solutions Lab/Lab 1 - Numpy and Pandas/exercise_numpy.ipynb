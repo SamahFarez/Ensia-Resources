{
 "cells": [
  {
   "cell_type": "code",
   "execution_count": 1,
   "metadata": {
    "id": "hGGlCGdL_Vhr"
   },
   "outputs": [],
   "source": [
    "# Importing NumPy\n",
    "import numpy as np"
   ]
  },
  {
   "cell_type": "code",
   "execution_count": 2,
   "metadata": {
    "id": "Z5vTwTKDWbFx"
   },
   "outputs": [
    {
     "name": "stdout",
     "output_type": "stream",
     "text": [
      "Exercise 1: Random Array:\n",
      " [[ 4 -6 -1]\n",
      " [-6 -1 -2]\n",
      " [ 3  0  6]]\n"
     ]
    }
   ],
   "source": [
    "# Exercise 1: Create a 3x3 array with random values\n",
    "random_array = np.random.randint(-8, 8, size=(3,3))\n",
    "print(\"Exercise 1: Random Array:\\n\", random_array)"
   ]
  },
  {
   "cell_type": "code",
   "execution_count": 3,
   "metadata": {
    "id": "x6kGLjGPWSAh"
   },
   "outputs": [
    {
     "name": "stdout",
     "output_type": "stream",
     "text": [
      "Exercise 2: Linspace Array: [0.         0.11111111 0.22222222 0.33333333 0.44444444 0.55555556\n",
      " 0.66666667 0.77777778 0.88888889 1.        ]\n"
     ]
    }
   ],
   "source": [
    "# Exercise 2: Create a 1D array with 10 equally spaced values from 0 to 1 (inclusive)\n",
    "linspace_array = np.linspace(start=0, stop=1, num=10)\n",
    "print(\"Exercise 2: Linspace Array:\", linspace_array)"
   ]
  },
  {
   "cell_type": "code",
   "execution_count": 4,
   "metadata": {
    "id": "yo5xbzUaWOxa"
   },
   "outputs": [
    {
     "name": "stdout",
     "output_type": "stream",
     "text": [
      "Exercise 3: Reshaped Linspace Array:\n",
      " [[0.         0.11111111]\n",
      " [0.22222222 0.33333333]\n",
      " [0.44444444 0.55555556]\n",
      " [0.66666667 0.77777778]\n",
      " [0.88888889 1.        ]]\n"
     ]
    }
   ],
   "source": [
    "# Exercise 3: Reshape the linspace_array into a 5x2 matrix\n",
    "reshaped_linspace = np.reshape(linspace_array, (5, 2))\n",
    "print(\"Exercise 3: Reshaped Linspace Array:\\n\", reshaped_linspace)"
   ]
  },
  {
   "cell_type": "code",
   "execution_count": 5,
   "metadata": {
    "id": "N-pzIrEHWLSk"
   },
   "outputs": [
    {
     "name": "stdout",
     "output_type": "stream",
     "text": [
      "Exercise 4: Odd Numbers from Random Array: [-1 -1  3]\n"
     ]
    }
   ],
   "source": [
    "# Exercise 4: Extract all odd numbers from the random_array\n",
    "odd_numbers = random_array[random_array % 2 == 1]\n",
    "print(\"Exercise 4: Odd Numbers from Random Array:\", odd_numbers)"
   ]
  },
  {
   "cell_type": "code",
   "execution_count": 6,
   "metadata": {
    "id": "kEFmMk24WIMH"
   },
   "outputs": [
    {
     "name": "stdout",
     "output_type": "stream",
     "text": [
      "Exercise 5: Doubled Array:\n",
      " [[ 0  2  4]\n",
      " [ 6  8 10]\n",
      " [12 14 16]]\n"
     ]
    }
   ],
   "source": [
    "# Exercise 5: Create a 3x3 array with values from 0 to 8, then multiply it by 2\n",
    "double_array = np.array(np.arange(9).reshape(3,3)) * 2\n",
    "print(\"Exercise 5: Doubled Array:\\n\", double_array)"
   ]
  },
  {
   "cell_type": "code",
   "execution_count": 7,
   "metadata": {
    "id": "45tVnUY7WFUw"
   },
   "outputs": [
    {
     "name": "stdout",
     "output_type": "stream",
     "text": [
      "Exercise 6: Matrix Multiplication Result:\n",
      " [[-48 -54 -60]\n",
      " [-30 -48 -66]\n",
      " [ 72  90 108]]\n"
     ]
    }
   ],
   "source": [
    "# Exercise 6: Perform a matrix multiplication between random_array and double_array\n",
    "matrix_multiplication_result = np.dot(random_array, double_array)\n",
    "print(\"Exercise 6: Matrix Multiplication Result:\\n\", matrix_multiplication_result)"
   ]
  },
  {
   "cell_type": "code",
   "execution_count": 8,
   "metadata": {
    "id": "gSZP15ZOWCM_"
   },
   "outputs": [
    {
     "name": "stdout",
     "output_type": "stream",
     "text": [
      "Exercise 7: Mean along Columns:\n",
      " [-2. -4. -6.]\n"
     ]
    }
   ],
   "source": [
    "# Exercise 7: Calculate the mean along the columns of matrix_multiplication_result\n",
    "mean_along_columns = np.mean(matrix_multiplication_result, axis=0)\n",
    "print(\"Exercise 7: Mean along Columns:\\n\", mean_along_columns)"
   ]
  },
  {
   "cell_type": "code",
   "execution_count": 9,
   "metadata": {
    "id": "3XlhKuSIV-qs"
   },
   "outputs": [
    {
     "name": "stdout",
     "output_type": "stream",
     "text": [
      "Exercise 8: Boolean Array:\n",
      " [[False False False]\n",
      " [False False False]\n",
      " [ True  True  True]]\n"
     ]
    }
   ],
   "source": [
    "# Exercise 8: Create a boolean array where values greater than 0 in matrix_multiplication_result are True\n",
    "boolean_array = matrix_multiplication_result > 0\n",
    "print(\"Exercise 8: Boolean Array:\\n\", boolean_array)"
   ]
  },
  {
   "cell_type": "code",
   "execution_count": 10,
   "metadata": {
    "id": "MZftzrDUV7mO"
   },
   "outputs": [
    {
     "name": "stdout",
     "output_type": "stream",
     "text": [
      "Exercise 9: Replace Negative Values with 0:\n",
      " [[4 0 0]\n",
      " [0 0 0]\n",
      " [3 0 6]]\n"
     ]
    }
   ],
   "source": [
    "# Exercise 9: Replace all negative values in random_array with 0\n",
    "random_array[random_array < 0] = 0\n",
    "print(\"Exercise 9: Replace Negative Values with 0:\\n\", random_array)"
   ]
  },
  {
   "cell_type": "code",
   "execution_count": 11,
   "metadata": {
    "id": "rlQBM4uyV40F"
   },
   "outputs": [
    {
     "name": "stdout",
     "output_type": "stream",
     "text": [
      "Exercise 10: Sum of Values > 1 in Reshaped Linspace: 0.0\n"
     ]
    }
   ],
   "source": [
    "# Exercise 10: Sum all values greater than 1 in reshaped_linspace\n",
    "sum_greater_than_1 = np.sum(reshaped_linspace[reshaped_linspace > 1])\n",
    "print(\"Exercise 10: Sum of Values > 1 in Reshaped Linspace:\", sum_greater_than_1)"
   ]
  },
  {
   "cell_type": "code",
   "execution_count": 12,
   "metadata": {
    "id": "AvmxUgrlV1Rs"
   },
   "outputs": [
    {
     "name": "stdout",
     "output_type": "stream",
     "text": [
      "Exercise 11: Normal Distribution Array:\n",
      " [[ 0.60195846 -0.41800601 -0.70438417 -0.57220204]\n",
      " [ 0.83710533 -0.25247023 -1.33338305  0.02718693]\n",
      " [-0.82788408  0.51699636 -0.25588646 -1.76832796]\n",
      " [ 1.47568966 -0.33616308  0.41849562  0.09903192]]\n"
     ]
    }
   ],
   "source": [
    "# Exercise 11: Create a 4x4 array with values from a normal distribution (mean=0, standard deviation=1)\n",
    "normal_distribution_array = np.random.normal(size=(4, 4))\n",
    "print(\"Exercise 11: Normal Distribution Array:\\n\", normal_distribution_array)"
   ]
  },
  {
   "cell_type": "code",
   "execution_count": 13,
   "metadata": {
    "id": "DCET1rpLVyV1"
   },
   "outputs": [
    {
     "name": "stdout",
     "output_type": "stream",
     "text": [
      "Exercise 12: Standard Deviation per Row:\n",
      " [0.51531377 0.77668743 0.83396095 0.66879638]\n"
     ]
    }
   ],
   "source": [
    "# Exercise 12: Calculate the standard deviation of each row in normal_distribution_array\n",
    "std_deviation_per_row = np.std(normal_distribution_array, axis=1)\n",
    "print(\"Exercise 12: Standard Deviation per Row:\\n\", std_deviation_per_row)"
   ]
  },
  {
   "cell_type": "code",
   "execution_count": 14,
   "metadata": {
    "id": "zLtruGe1Vu-D"
   },
   "outputs": [
    {
     "name": "stdout",
     "output_type": "stream",
     "text": [
      "Exercise 13: Flattened Array: [1 2 3 4 5 6 7 8 9]\n"
     ]
    }
   ],
   "source": [
    "# Exercise 13: Create a 3x3 array with integer values, then flatten it\n",
    "integer_array = np.array([[1, 2, 3], [4, 5, 6], [7, 8, 9]])\n",
    "flattened_array = integer_array.ravel()\n",
    "print(\"Exercise 13: Flattened Array:\", flattened_array)"
   ]
  },
  {
   "cell_type": "code",
   "execution_count": 15,
   "metadata": {
    "id": "Aa76QCb0Vq-9"
   },
   "outputs": [
    {
     "name": "stdout",
     "output_type": "stream",
     "text": [
      "Exercise 14: Stacked Vertically Array:\n",
      " [[1 2 3]\n",
      " [4 5 6]\n",
      " [7 8 9]\n",
      " [1 2 3]\n",
      " [4 5 6]\n",
      " [7 8 9]]\n"
     ]
    }
   ],
   "source": [
    "# Exercise 14: Stack the integer_array vertically on top of itself\n",
    "stacked_vertically = np.vstack((integer_array, integer_array))\n",
    "print(\"Exercise 14: Stacked Vertically Array:\\n\", stacked_vertically)"
   ]
  },
  {
   "cell_type": "code",
   "execution_count": 16,
   "metadata": {
    "id": "SOGsnnN5VoET"
   },
   "outputs": [
    {
     "name": "stdout",
     "output_type": "stream",
     "text": [
      "Exercise 15: Split Arrays: [array([[1, 2, 3],\n",
      "       [4, 5, 6],\n",
      "       [7, 8, 9]]), array([[1, 2, 3],\n",
      "       [4, 5, 6],\n",
      "       [7, 8, 9]])]\n"
     ]
    }
   ],
   "source": [
    "# Exercise 15: Split the stacked_vertically array into two separate arrays\n",
    "split_arrays = np.split(stacked_vertically, 2)\n",
    "print(\"Exercise 15: Split Arrays:\", split_arrays)"
   ]
  },
  {
   "cell_type": "code",
   "execution_count": 17,
   "metadata": {
    "id": "qj2vyNiXVlFj"
   },
   "outputs": [
    {
     "name": "stdout",
     "output_type": "stream",
     "text": [
      "Exercise 16: Theta Values Array: [0.         0.78539816 1.57079633 2.35619449 3.14159265 3.92699082\n",
      " 4.71238898 5.49778714]\n"
     ]
    }
   ],
   "source": [
    "# Exercise 16: Create an array with values from 0 to 2π with a step of π/4\n",
    "theta_values = np.arange(0, 2 * np.pi, np.pi / 4)\n",
    "print(\"Exercise 16: Theta Values Array:\", theta_values)"
   ]
  },
  {
   "cell_type": "code",
   "execution_count": 18,
   "metadata": {
    "id": "du2iXOfoVhCM"
   },
   "outputs": [
    {
     "name": "stdout",
     "output_type": "stream",
     "text": [
      "Exercise 17: Sine Values Array: [ 0.00000000e+00  7.07106781e-01  1.00000000e+00  7.07106781e-01\n",
      "  1.22464680e-16 -7.07106781e-01 -1.00000000e+00 -7.07106781e-01]\n",
      "             Cosine Values Array: [ 1.00000000e+00  7.07106781e-01  6.12323400e-17 -7.07106781e-01\n",
      " -1.00000000e+00 -7.07106781e-01 -1.83697020e-16  7.07106781e-01]\n"
     ]
    }
   ],
   "source": [
    "# Exercise 17: Calculate the sine and cosine of theta_values\n",
    "sine_values = np.sin(theta_values)\n",
    "cosine_values = np.cos(theta_values)\n",
    "print(\"Exercise 17: Sine Values Array:\", sine_values)\n",
    "print(\"             Cosine Values Array:\", cosine_values)"
   ]
  },
  {
   "cell_type": "code",
   "execution_count": 19,
   "metadata": {
    "id": "uYOYUT07Vc9k"
   },
   "outputs": [
    {
     "name": "stdout",
     "output_type": "stream",
     "text": [
      "Exercise 18: Logarithm of Standard Deviation:\n",
      " [-0.66297931 -0.25271729 -0.1815687  -0.40227563]\n"
     ]
    }
   ],
   "source": [
    "# Exercise 18: Calculate the element-wise natural logarithm of the std_deviation_per_row array\n",
    "log_std_deviation = np.log(std_deviation_per_row)\n",
    "print(\"Exercise 18: Logarithm of Standard Deviation:\\n\", log_std_deviation)"
   ]
  },
  {
   "cell_type": "code",
   "execution_count": 20,
   "metadata": {
    "id": "QfgI84QdVZy0"
   },
   "outputs": [
    {
     "name": "stdout",
     "output_type": "stream",
     "text": [
      "Exercise 19: Dot Product Result: -5.822812075350145\n"
     ]
    }
   ],
   "source": [
    "# Exercise 19: Calculate the dot product of the first row of integer_array and the last column of normal_distribution_array\n",
    "dot_product_result = np.dot(integer_array[0, :], normal_distribution_array[:3, -1])\n",
    "print(\"Exercise 19: Dot Product Result:\", dot_product_result)"
   ]
  },
  {
   "cell_type": "code",
   "execution_count": 21,
   "metadata": {
    "id": "_-FwVXeLVZCI"
   },
   "outputs": [
    {
     "name": "stdout",
     "output_type": "stream",
     "text": [
      "Exercise 20: Boolean Array (Values > 1):\n",
      " [[False False False False]\n",
      " [False False False False]\n",
      " [False False False False]\n",
      " [ True False False False]]\n"
     ]
    }
   ],
   "source": [
    "# Exercise 20: Create a boolean array where values in normal_distribution_array are greater than 1\n",
    "boolean_array_greater_than_1 = normal_distribution_array > 1\n",
    "print(\"Exercise 20: Boolean Array (Values > 1):\\n\", boolean_array_greater_than_1)"
   ]
  }
 ],
 "metadata": {
  "colab": {
   "provenance": []
  },
  "kernelspec": {
   "display_name": "Python 3 (ipykernel)",
   "language": "python",
   "name": "python3"
  },
  "language_info": {
   "codemirror_mode": {
    "name": "ipython",
    "version": 3
   },
   "file_extension": ".py",
   "mimetype": "text/x-python",
   "name": "python",
   "nbconvert_exporter": "python",
   "pygments_lexer": "ipython3",
   "version": "3.11.4"
  }
 },
 "nbformat": 4,
 "nbformat_minor": 1
}
