{
 "cells": [
  {
   "cell_type": "code",
   "execution_count": 1,
   "metadata": {
    "id": "f0-VjnEj_x6i"
   },
   "outputs": [],
   "source": [
    "# Importing Pandas\n",
    "import pandas as pd\n",
    "import numpy as np"
   ]
  },
  {
   "cell_type": "code",
   "execution_count": 2,
   "metadata": {
    "id": "Y2AZdMpwYSIb"
   },
   "outputs": [],
   "source": [
    "# Create a DataFrame from the given data\n",
    "data = {\n",
    "    'Name': ['Alice', 'Bob', 'Charlie', 'David', 'Bob'],\n",
    "    'Age': [np.NaN, 30, 22, 35, 28],\n",
    "    'City': ['Boston', 'San Francisco', 'Los Angeles', 'Chicago', 'Boston'],\n",
    "    'Salary': [50000, 70000, 60000, 80000, 55000]\n",
    "}\n",
    "\n",
    "df = pd.DataFrame(data)"
   ]
  },
  {
   "cell_type": "code",
   "execution_count": 3,
   "metadata": {
    "id": "i6SrHWVyXhtb"
   },
   "outputs": [
    {
     "name": "stdout",
     "output_type": "stream",
     "text": [
      "1. Display the first 3 rows of the DataFrame:\n",
      "       Name   Age           City  Salary\n",
      "0    Alice   NaN         Boston   50000\n",
      "1      Bob  30.0  San Francisco   70000\n",
      "2  Charlie  22.0    Los Angeles   60000\n",
      "3    David  35.0        Chicago   80000\n",
      "4      Bob  28.0         Boston   55000\n"
     ]
    }
   ],
   "source": [
    "# 1. Display the first 3 rows of the DataFrame\n",
    "first_3_rows = df.head(6)\n",
    "print(\"1. Display the first 3 rows of the DataFrame:\\n\", first_3_rows)"
   ]
  },
  {
   "cell_type": "code",
   "execution_count": 4,
   "metadata": {
    "id": "-eWbfTjlXhCK"
   },
   "outputs": [
    {
     "name": "stdout",
     "output_type": "stream",
     "text": [
      "2. Find the number of rows and columns in the DataFrame:\n",
      " (5, 4)\n"
     ]
    }
   ],
   "source": [
    "# 2. Find the number of rows and columns in the DataFrame\n",
    "shape_of_df = df.shape\n",
    "print(\"2. Find the number of rows and columns in the DataFrame:\\n\", shape_of_df)"
   ]
  },
  {
   "cell_type": "code",
   "execution_count": 5,
   "metadata": {
    "id": "okvmy3zTXgdo"
   },
   "outputs": [
    {
     "name": "stdout",
     "output_type": "stream",
     "text": [
      "3. Display the unique values in the 'City' column:\n",
      " ['Boston' 'San Francisco' 'Los Angeles' 'Chicago']\n"
     ]
    }
   ],
   "source": [
    "# 3. Display the unique values in the 'City' column\n",
    "unique_cities = df['City'].unique()\n",
    "print(\"3. Display the unique values in the 'City' column:\\n\", unique_cities)"
   ]
  },
  {
   "cell_type": "code",
   "execution_count": 6,
   "metadata": {
    "id": "5jehDNF-Xfoa"
   },
   "outputs": [
    {
     "name": "stdout",
     "output_type": "stream",
     "text": [
      "4. Calculate the mean salary of the employees:\n",
      " 63000.0\n"
     ]
    }
   ],
   "source": [
    "# 4. Calculate the mean salary of the employees\n",
    "mean_salary = df['Salary'].mean()\n",
    "print(\"4. Calculate the mean salary of the employees:\\n\", mean_salary)"
   ]
  },
  {
   "cell_type": "code",
   "execution_count": 7,
   "metadata": {
    "id": "iIeNL3oqXfLH"
   },
   "outputs": [
    {
     "name": "stdout",
     "output_type": "stream",
     "text": [
      "5. Add a new column 'Bonus' with random bonus values:\n",
      "       Name   Age           City  Salary  Bonus\n",
      "0    Alice   NaN         Boston   50000    100\n",
      "1      Bob  30.0  San Francisco   70000    200\n",
      "2  Charlie  22.0    Los Angeles   60000    300\n",
      "3    David  35.0        Chicago   80000    400\n",
      "4      Bob  28.0         Boston   55000    500\n"
     ]
    }
   ],
   "source": [
    "# 5. Add a new column 'Bonus' with random bonus values (e.g., 1000, 1500, 1200, 2000, 1100)\n",
    "df['Bonus'] = [100, 200, 300, 400, 500]\n",
    "print(\"5. Add a new column 'Bonus' with random bonus values:\\n\", df)"
   ]
  },
  {
   "cell_type": "code",
   "execution_count": 8,
   "metadata": {
    "id": "hQlxUWRwXeru"
   },
   "outputs": [
    {
     "name": "stdout",
     "output_type": "stream",
     "text": [
      "6. Drop the 'City' column from the DataFrame:\n",
      "       Name   Age  Salary  Bonus\n",
      "0    Alice   NaN   50000    100\n",
      "1      Bob  30.0   70000    200\n",
      "2  Charlie  22.0   60000    300\n",
      "3    David  35.0   80000    400\n",
      "4      Bob  28.0   55000    500\n"
     ]
    }
   ],
   "source": [
    "# 6. Drop the 'City' column from the DataFrame\n",
    "df_without_city = df.drop('City', axis=1)\n",
    "print(\"6. Drop the 'City' column from the DataFrame:\\n\", df_without_city)"
   ]
  },
  {
   "cell_type": "code",
   "execution_count": 9,
   "metadata": {
    "id": "ok6yNcIlXeNf"
   },
   "outputs": [
    {
     "name": "stdout",
     "output_type": "stream",
     "text": [
      "7. Select only the rows where the age is greater than 25:\n",
      "     Name   Age           City  Salary  Bonus\n",
      "1    Bob  30.0  San Francisco   70000    200\n",
      "3  David  35.0        Chicago   80000    400\n",
      "4    Bob  28.0         Boston   55000    500\n"
     ]
    }
   ],
   "source": [
    "# 7. Select only the rows where the age is greater than 25\n",
    "above_25_years = df[df['Age'] > 25]\n",
    "print(\"7. Select only the rows where the age is greater than 25:\\n\", above_25_years)"
   ]
  },
  {
   "cell_type": "code",
   "execution_count": 10,
   "metadata": {
    "id": "U7m4mH5YXdp3"
   },
   "outputs": [
    {
     "name": "stdout",
     "output_type": "stream",
     "text": [
      "8. Set the 'Name' column as the index of the DataFrame:\n",
      "           Age           City  Salary  Bonus\n",
      "Name                                       \n",
      "Alice     NaN         Boston   50000    100\n",
      "Bob      30.0  San Francisco   70000    200\n",
      "Charlie  22.0    Los Angeles   60000    300\n",
      "David    35.0        Chicago   80000    400\n",
      "Bob      28.0         Boston   55000    500\n"
     ]
    }
   ],
   "source": [
    "# 8. Set the 'Name' column as the index of the DataFrame\n",
    "df_with_index = df.set_index('Name')\n",
    "print(\"8. Set the 'Name' column as the index of the DataFrame:\\n\", df_with_index)"
   ]
  },
  {
   "cell_type": "code",
   "execution_count": 11,
   "metadata": {},
   "outputs": [
    {
     "data": {
      "text/plain": [
       "Name\n",
       "Bob    30.0\n",
       "Bob    28.0\n",
       "Name: Age, dtype: float64"
      ]
     },
     "execution_count": 11,
     "metadata": {},
     "output_type": "execute_result"
    }
   ],
   "source": [
    "df_with_index.loc[\"Bob\"][\"Age\"]"
   ]
  },
  {
   "cell_type": "code",
   "execution_count": 12,
   "metadata": {
    "id": "pHpCR5IWXdHq"
   },
   "outputs": [
    {
     "name": "stdout",
     "output_type": "stream",
     "text": [
      "9. Reset the index of the DataFrame:\n",
      "       Name   Age           City  Salary  Bonus\n",
      "0    Alice   NaN         Boston   50000    100\n",
      "1      Bob  30.0  San Francisco   70000    200\n",
      "2  Charlie  22.0    Los Angeles   60000    300\n",
      "3    David  35.0        Chicago   80000    400\n",
      "4      Bob  28.0         Boston   55000    500\n"
     ]
    }
   ],
   "source": [
    "# 9. Reset the index of the DataFrame\n",
    "df_reset_index = df_with_index.reset_index()\n",
    "print(\"9. Reset the index of the DataFrame:\\n\", df_reset_index)"
   ]
  },
  {
   "cell_type": "code",
   "execution_count": 13,
   "metadata": {
    "id": "eogeXoMTXcjt"
   },
   "outputs": [
    {
     "name": "stdout",
     "output_type": "stream",
     "text": [
      "10. Sort the DataFrame based on the 'Salary' column in descending order:\n",
      "       Name   Age           City  Salary  Bonus\n",
      "3    David  35.0        Chicago   80000    400\n",
      "1      Bob  30.0  San Francisco   70000    200\n",
      "2  Charlie  22.0    Los Angeles   60000    300\n",
      "4      Bob  28.0         Boston   55000    500\n",
      "0    Alice   NaN         Boston   50000    100\n"
     ]
    }
   ],
   "source": [
    "# 10. Sort the DataFrame based on the 'Salary' column in descending order\n",
    "sorted_df = df.sort_values('Salary', ascending=False)\n",
    "print(\"10. Sort the DataFrame based on the 'Salary' column in descending order:\\n\", sorted_df)"
   ]
  },
  {
   "cell_type": "code",
   "execution_count": 14,
   "metadata": {
    "id": "wTR0n-3CXb-Q"
   },
   "outputs": [
    {
     "name": "stdout",
     "output_type": "stream",
     "text": [
      "11. Group the DataFrame by the 'City' column and calculate the mean salary in each city:\n",
      " City\n",
      "Boston           52500.0\n",
      "Chicago          80000.0\n",
      "Los Angeles      60000.0\n",
      "San Francisco    70000.0\n",
      "Name: Salary, dtype: float64\n"
     ]
    }
   ],
   "source": [
    "# 11. Group the DataFrame by the 'City' column and calculate the mean salary in each city\n",
    "mean_salary_by_city = df.groupby('City')['Salary'].mean()\n",
    "print(\"11. Group the DataFrame by the 'City' column and calculate the mean salary in each city:\\n\", mean_salary_by_city)"
   ]
  },
  {
   "cell_type": "code",
   "execution_count": 15,
   "metadata": {
    "id": "XbVJRj4oXbaC"
   },
   "outputs": [
    {
     "name": "stdout",
     "output_type": "stream",
     "text": [
      "12. Replace 'Charlie' with 'Eva' in the 'Name' column:\n",
      " 0    Alice\n",
      "1      Bob\n",
      "2      Eva\n",
      "3    David\n",
      "4      Bob\n",
      "Name: Name, dtype: object\n"
     ]
    }
   ],
   "source": [
    "# 12. Replace 'Charlie' with 'Eva' in the 'Name' column\n",
    "df_replace_name = df['Name'].replace('Charlie', 'Eva')\n",
    "print(\"12. Replace 'Charlie' with 'Eva' in the 'Name' column:\\n\", df_replace_name)"
   ]
  },
  {
   "cell_type": "code",
   "execution_count": 16,
   "metadata": {
    "id": "ayjo1zmtXa8V"
   },
   "outputs": [
    {
     "name": "stdout",
     "output_type": "stream",
     "text": [
      "13. Display the statistical summary of the DataFrame:\n",
      "              Age        Salary       Bonus\n",
      "count   4.000000      5.000000    5.000000\n",
      "mean   28.750000  63000.000000  300.000000\n",
      "std     5.377422  12041.594579  158.113883\n",
      "min    22.000000  50000.000000  100.000000\n",
      "25%    26.500000  55000.000000  200.000000\n",
      "50%    29.000000  60000.000000  300.000000\n",
      "75%    31.250000  70000.000000  400.000000\n",
      "max    35.000000  80000.000000  500.000000\n"
     ]
    }
   ],
   "source": [
    "# 13. Display the statistical summary of the DataFrame\n",
    "summary_stats = df.describe()\n",
    "print(\"13. Display the statistical summary of the DataFrame:\\n\", summary_stats)"
   ]
  },
  {
   "cell_type": "code",
   "execution_count": 17,
   "metadata": {
    "id": "nvZ7NK83Xaa7"
   },
   "outputs": [
    {
     "name": "stdout",
     "output_type": "stream",
     "text": [
      "14. Fill missing values in the DataFrame with the mean of each column:\n",
      "       Name   Age           City  Salary  Bonus\n",
      "0    Alice   0.0         Boston   50000    100\n",
      "1      Bob  30.0  San Francisco   70000    200\n",
      "2  Charlie  22.0    Los Angeles   60000    300\n",
      "3    David  35.0        Chicago   80000    400\n",
      "4      Bob  28.0         Boston   55000    500\n"
     ]
    }
   ],
   "source": [
    "# 14. Fill missing values in the DataFrame with the mean of each column\n",
    "df_filled_na = df.fillna(0)\n",
    "# df_filled_na = df.fillna(df.mean())\n",
    "print(\"14. Fill missing values in the DataFrame with the mean of each column:\\n\", df_filled_na)"
   ]
  },
  {
   "cell_type": "code",
   "execution_count": 18,
   "metadata": {
    "id": "ejcIKc_LXZ2r"
   },
   "outputs": [
    {
     "name": "stdout",
     "output_type": "stream",
     "text": [
      "15. Calculate the total salary expenditure by the company:\n",
      " 315000\n"
     ]
    }
   ],
   "source": [
    "# 15. Calculate the total salary expenditure by the company\n",
    "total_salary_expenditure = df['Salary'].sum()\n",
    "print(\"15. Calculate the total salary expenditure by the company:\\n\", total_salary_expenditure)"
   ]
  },
  {
   "cell_type": "code",
   "execution_count": 19,
   "metadata": {
    "id": "kRPTncKxXZQ3"
   },
   "outputs": [
    {
     "name": "stdout",
     "output_type": "stream",
     "text": [
      "16. Save the DataFrame to a CSV file named 'employee_data.csv': File saved.\n"
     ]
    }
   ],
   "source": [
    "# 16. Save the DataFrame to a CSV file named 'employee_data.csv'\n",
    "df.to_csv('employee_data.csv', index=True)\n",
    "print(\"16. Save the DataFrame to a CSV file named 'employee_data.csv': File saved.\")"
   ]
  },
  {
   "cell_type": "code",
   "execution_count": 20,
   "metadata": {
    "id": "oA6buGyMXYmX"
   },
   "outputs": [
    {
     "name": "stdout",
     "output_type": "stream",
     "text": [
      "17. Read the 'employee_data.csv' file into a new DataFrame:\n",
      "    Unnamed: 0     Name   Age           City  Salary  Bonus\n",
      "0           0    Alice   NaN         Boston   50000    100\n",
      "1           1      Bob  30.0  San Francisco   70000    200\n",
      "2           2  Charlie  22.0    Los Angeles   60000    300\n",
      "3           3    David  35.0        Chicago   80000    400\n",
      "4           4      Bob  28.0         Boston   55000    500\n"
     ]
    }
   ],
   "source": [
    "# 17. Read the 'employee_data.csv' file into a new DataFrame\n",
    "new_df = pd.read_csv('employee_data.csv')\n",
    "print(\"17. Read the 'employee_data.csv' file into a new DataFrame:\\n\", new_df)"
   ]
  },
  {
   "cell_type": "code",
   "execution_count": 21,
   "metadata": {
    "id": "jkbU4nxAXX5N"
   },
   "outputs": [
    {
     "name": "stdout",
     "output_type": "stream",
     "text": [
      "18. Display the last 2 rows of the new DataFrame:\n",
      "    Unnamed: 0   Name   Age     City  Salary  Bonus\n",
      "3           3  David  35.0  Chicago   80000    400\n",
      "4           4    Bob  28.0   Boston   55000    500\n"
     ]
    }
   ],
   "source": [
    "# 18. Display the last 2 rows of the new DataFrame\n",
    "last_2_rows_new_df = new_df.tail(2)\n",
    "print(\"18. Display the last 2 rows of the new DataFrame:\\n\", last_2_rows_new_df)"
   ]
  },
  {
   "cell_type": "code",
   "execution_count": 22,
   "metadata": {},
   "outputs": [
    {
     "name": "stdout",
     "output_type": "stream",
     "text": [
      "      Name   Age           City  Salary  Bonus\n",
      "0    Alice   NaN         Boston   50000    100\n",
      "1      Bob  30.0  San Francisco   70000    200\n",
      "2  Charlie  22.0    Los Angeles   60000    300\n",
      "3    David  35.0        Chicago   80000    400\n",
      "4      Bob  28.0         Boston   55000    500\n"
     ]
    }
   ],
   "source": [
    "print(df)"
   ]
  },
  {
   "cell_type": "code",
   "execution_count": 23,
   "metadata": {
    "id": "HrD_eQ0pXXHz"
   },
   "outputs": [
    {
     "name": "stdout",
     "output_type": "stream",
     "text": [
      "19. Rename the columns to 'EmployeeName', 'EmployeeAge', 'EmployeeCity', 'EmployeeSalary':\n",
      "   EmployeeName  EmployeeAge   EmployeeCity  EmployeeSalary  EmployeeBonus\n",
      "0        Alice          NaN         Boston           50000            100\n",
      "1          Bob         30.0  San Francisco           70000            200\n",
      "2      Charlie         22.0    Los Angeles           60000            300\n",
      "3        David         35.0        Chicago           80000            400\n",
      "4          Bob         28.0         Boston           55000            500\n"
     ]
    }
   ],
   "source": [
    "# 19. Rename the columns to 'EmployeeName', 'EmployeeAge', 'EmployeeCity', 'EmployeeSalary'\n",
    "df_renamed_columns = df\n",
    "df_renamed_columns.columns = ['EmployeeName', 'EmployeeAge', 'EmployeeCity', 'EmployeeSalary', 'EmployeeBonus']\n",
    "print(\"19. Rename the columns to 'EmployeeName', 'EmployeeAge', 'EmployeeCity', 'EmployeeSalary':\\n\", df_renamed_columns)"
   ]
  },
  {
   "cell_type": "code",
   "execution_count": 24,
   "metadata": {
    "id": "qM1jnG2pXWSY"
   },
   "outputs": [
    {
     "name": "stdout",
     "output_type": "stream",
     "text": [
      "20. Create a new DataFrame with only 'Name' and 'Salary' columns:\n",
      "   EmployeeName  EmployeeSalary\n",
      "0        Alice           50000\n",
      "1          Bob           70000\n",
      "2      Charlie           60000\n",
      "3        David           80000\n",
      "4          Bob           55000\n"
     ]
    }
   ],
   "source": [
    "# 20. Create a new DataFrame with only 'Name' and 'Salary' columns\n",
    "df_name_salary = df[['EmployeeName', 'EmployeeSalary']]\n",
    "print(\"20. Create a new DataFrame with only 'Name' and 'Salary' columns:\\n\", df_name_salary)"
   ]
  }
 ],
 "metadata": {
  "colab": {
   "provenance": []
  },
  "kernelspec": {
   "display_name": "Python 3 (ipykernel)",
   "language": "python",
   "name": "python3"
  },
  "language_info": {
   "codemirror_mode": {
    "name": "ipython",
    "version": 3
   },
   "file_extension": ".py",
   "mimetype": "text/x-python",
   "name": "python",
   "nbconvert_exporter": "python",
   "pygments_lexer": "ipython3",
   "version": "3.11.4"
  }
 },
 "nbformat": 4,
 "nbformat_minor": 1
}
