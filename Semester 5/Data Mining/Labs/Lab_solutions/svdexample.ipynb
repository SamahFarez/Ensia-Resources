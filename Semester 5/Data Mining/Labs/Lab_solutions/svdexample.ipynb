{
 "cells": [
  {
   "cell_type": "code",
   "execution_count": 3,
   "id": "6356a80c",
   "metadata": {
    "ExecuteTime": {
     "end_time": "2023-11-15T21:13:03.949229Z",
     "start_time": "2023-11-15T21:13:03.940169Z"
    }
   },
   "outputs": [],
   "source": [
    "from scipy.linalg import svd\n",
    "import numpy as np\n",
    "# the original matrix\n",
    "X=np.matrix([[1,1],[2,2],[-1,-1],[-2,-2],[1,-1],[-1,1]])\n",
    "\n",
    "U,S,V=svd(X)\n"
   ]
  },
  {
   "cell_type": "code",
   "execution_count": 10,
   "id": "2ee11746",
   "metadata": {
    "ExecuteTime": {
     "end_time": "2023-11-15T21:16:13.930948Z",
     "start_time": "2023-11-15T21:16:13.928776Z"
    },
    "heading_collapsed": true
   },
   "outputs": [
    {
     "name": "stdout",
     "output_type": "stream",
     "text": [
      "U shape is  (6, 6)\n",
      "S shape is (2,)\n",
      "V shape is (2, 2)\n"
     ]
    }
   ],
   "source": [
    "# analyzing the matrices\n",
    "print(\"U shape is \",U.shape)\n",
    "# Notice that S here is given as an array of singluar values and no as a matrix\n",
    "print(\"S shape is\",S.shape)\n",
    "print(\"V shape is\",V.shape)\n"
   ]
  },
  {
   "cell_type": "code",
   "execution_count": 13,
   "id": "55aafd54",
   "metadata": {
    "ExecuteTime": {
     "end_time": "2023-11-15T21:18:53.353735Z",
     "start_time": "2023-11-15T21:18:53.345345Z"
    }
   },
   "outputs": [
    {
     "data": {
      "text/plain": [
       "array([[ 1.,  1.],\n",
       "       [ 2.,  2.],\n",
       "       [-1., -1.],\n",
       "       [-2., -2.],\n",
       "       [ 1., -1.],\n",
       "       [-1.,  1.]])"
      ]
     },
     "execution_count": 13,
     "metadata": {},
     "output_type": "execute_result"
    }
   ],
   "source": [
    "# reconstuction of the original matrix\n",
    "# 1. constucting the sigma matrix\n",
    "m,n=6,2\n",
    "sigma = np.zeros((m, n))\n",
    "for i in range(min(m, n)):\n",
    "    sigma[i, i] = S[i]\n",
    "X2 = U@sigma@V\n",
    "X2"
   ]
  },
  {
   "cell_type": "code",
   "execution_count": 14,
   "id": "6e9f2aa8",
   "metadata": {
    "ExecuteTime": {
     "end_time": "2023-11-15T21:19:47.234842Z",
     "start_time": "2023-11-15T21:19:47.229244Z"
    }
   },
   "outputs": [
    {
     "data": {
      "text/plain": [
       "array([[4.47213595, 0.        ],\n",
       "       [0.        , 2.        ],\n",
       "       [0.        , 0.        ],\n",
       "       [0.        , 0.        ],\n",
       "       [0.        , 0.        ],\n",
       "       [0.        , 0.        ]])"
      ]
     },
     "execution_count": 14,
     "metadata": {},
     "output_type": "execute_result"
    }
   ],
   "source": [
    "# truncating the least important singular value\n",
    "sigma"
   ]
  },
  {
   "cell_type": "code",
   "execution_count": 31,
   "id": "5d43c195",
   "metadata": {
    "ExecuteTime": {
     "end_time": "2023-11-15T21:33:18.430184Z",
     "start_time": "2023-11-15T21:33:18.422924Z"
    }
   },
   "outputs": [
    {
     "data": {
      "text/plain": [
       "array([[ 1.00000000e+00,  1.00000000e+00],\n",
       "       [ 2.00000000e+00,  2.00000000e+00],\n",
       "       [-1.00000000e+00, -1.00000000e+00],\n",
       "       [-2.00000000e+00, -2.00000000e+00],\n",
       "       [ 2.12506581e-16,  2.12506581e-16],\n",
       "       [-2.12506581e-16, -2.12506581e-16]])"
      ]
     },
     "execution_count": 31,
     "metadata": {},
     "output_type": "execute_result"
    }
   ],
   "source": [
    "# so we drop the 2 \n",
    "X_reduced=U@sigma[:,:1]@V[:1,:]\n",
    "X_reduced"
   ]
  }
 ],
 "metadata": {
  "hide_input": false,
  "kernelspec": {
   "display_name": "Python 3 (ipykernel)",
   "language": "python",
   "name": "python3"
  },
  "language_info": {
   "codemirror_mode": {
    "name": "ipython",
    "version": 3
   },
   "file_extension": ".py",
   "mimetype": "text/x-python",
   "name": "python",
   "nbconvert_exporter": "python",
   "pygments_lexer": "ipython3",
   "version": "3.11.5"
  },
  "nbTranslate": {
   "displayLangs": [
    "*"
   ],
   "hotkey": "alt-t",
   "langInMainMenu": true,
   "sourceLang": "en",
   "targetLang": "fr",
   "useGoogleTranslate": true
  },
  "toc": {
   "base_numbering": 1,
   "nav_menu": {},
   "number_sections": true,
   "sideBar": true,
   "skip_h1_title": false,
   "title_cell": "Table of Contents",
   "title_sidebar": "Contents",
   "toc_cell": false,
   "toc_position": {},
   "toc_section_display": true,
   "toc_window_display": false
  },
  "varInspector": {
   "cols": {
    "lenName": 16,
    "lenType": 16,
    "lenVar": 40
   },
   "kernels_config": {
    "python": {
     "delete_cmd_postfix": "",
     "delete_cmd_prefix": "del ",
     "library": "var_list.py",
     "varRefreshCmd": "print(var_dic_list())"
    },
    "r": {
     "delete_cmd_postfix": ") ",
     "delete_cmd_prefix": "rm(",
     "library": "var_list.r",
     "varRefreshCmd": "cat(var_dic_list()) "
    }
   },
   "types_to_exclude": [
    "module",
    "function",
    "builtin_function_or_method",
    "instance",
    "_Feature"
   ],
   "window_display": false
  }
 },
 "nbformat": 4,
 "nbformat_minor": 5
}
